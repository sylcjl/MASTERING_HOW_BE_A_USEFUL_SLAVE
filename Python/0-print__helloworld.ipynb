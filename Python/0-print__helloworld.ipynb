{
 "cells": [
  {
   "cell_type": "markdown",
   "metadata": {},
   "source": [
    "### Show how to use jupyther\n",
    "Each block you see now is call \"cell\"  \n",
    "You can run cell independently.  \n",
    "  \n",
    "> **Run a cell**:  \n",
    "> \"**_```ctrl + Enter```_**\" --> will stay in this cell after run.  \n",
    "> \"**_```shift + Enter```_**\" --> will go to the next cell after run.  \n",
    "> \"**_```alt + Enter```_**\" --> will insert a cell below after run.\n",
    "  \n",
    "> *Delete a cell*:  \n",
    "> Select a cell and press \"**_```d```_**\" twice.  \n"
   ]
  },
  {
   "cell_type": "code",
   "execution_count": 1,
   "metadata": {
    "collapsed": false
   },
   "outputs": [
    {
     "name": "stdout",
     "output_type": "stream",
     "text": [
      "Hello World!\n",
      "Hello World again!\n",
      "Hello.......world?\n",
      "He..l...lo.......WTF!\n"
     ]
    }
   ],
   "source": [
    "# press \"ctrl + Enter\" will run this cell and stay here.\n",
    "# 字串有四種\n",
    "#     1. 'str1'\n",
    "#     2. \"str2\"\n",
    "#     3. '''str3'''\n",
    "#     4. \"\"\"str4\"\"\"\n",
    "\n",
    "print 'Hello World!'\n",
    "print \"Hello World again!\"\n",
    "print '''Hello.......world?'''\n",
    "print \"\"\"He..l...lo.......WTF!\"\"\""
   ]
  },
  {
   "cell_type": "code",
   "execution_count": 2,
   "metadata": {
    "collapsed": false
   },
   "outputs": [
    {
     "name": "stdout",
     "output_type": "stream",
     "text": [
      "Python is easy to learn. lalala\n"
     ]
    }
   ],
   "source": [
    "# press \"shift + Enter\" will run this cell go to the next one.\n",
    "#  1. 變數的宣告直接在後面賦予初值即可 >>>> hogan = 2\n",
    "#  1. 字串可以用\"*\"去產生 >>>> \"la\"*3 -> \"lalala\"\n",
    "#  2. 兩個字串間可以用\"+\"去連接在一起\n",
    "#  3. 變數與字串之間可以用\",\"連接在一起\n",
    "\n",
    "i_am_a_string = \"la\"*3\n",
    "print \"Python is\" + ' easy to learn.', i_am_a_string"
   ]
  },
  {
   "cell_type": "code",
   "execution_count": 4,
   "metadata": {
    "collapsed": false
   },
   "outputs": [
    {
     "name": "stdout",
     "output_type": "stream",
     "text": [
      "Tony is handsome.\n",
      "Tony is very handsome.\n",
      "Tony is very handsome!!!!\n",
      "Tony is very very handsome!!!!!!!!!!!\n"
     ]
    }
   ],
   "source": [
    "# 帶有變數的print，一共兩大類\n",
    "\n",
    "#  1.使用 %s\n",
    "#    (1). \"%s\" %(\"string\")\n",
    "#    (2). \"%(str1)s\" %({str1:\"string\"})\n",
    "#  2.使用 .format\n",
    "#    (1). \"{}\" .format(\"string\")\n",
    "#    (2). \"{str1}\" %(str1=\"string\")\n",
    "# 使用哪種看各人喜好，Tony老師推薦使用 format\n",
    "\n",
    "string1 = \"handsome\"\n",
    "string2 = \"very\"\n",
    "\n",
    "#  1.使用 %s\n",
    "print \"Tony is %s.\" %(string1)\n",
    "print \"Tony is %(str2)s %(str1)s.\" %({'str1':string1, 'str2':string2})\n",
    "\n",
    "#  2.使用 .format\n",
    "print \"Tony is {} {}!!!!\" .format(string2, string1)\n",
    "print \"Tony is {str2} {str2} {str1}!!!!!!!!!!!\" .format(str2=string2, str1=string1)"
   ]
  },
  {
   "cell_type": "code",
   "execution_count": null,
   "metadata": {
    "collapsed": true
   },
   "outputs": [],
   "source": []
  }
 ],
 "metadata": {
  "kernelspec": {
   "display_name": "Python 2",
   "language": "python",
   "name": "python2"
  },
  "language_info": {
   "codemirror_mode": {
    "name": "ipython",
    "version": 2
   },
   "file_extension": ".py",
   "mimetype": "text/x-python",
   "name": "python",
   "nbconvert_exporter": "python",
   "pygments_lexer": "ipython2",
   "version": "2.7.11"
  }
 },
 "nbformat": 4,
 "nbformat_minor": 0
}
